{
 "cells": [
  {
   "cell_type": "code",
   "execution_count": null,
   "metadata": {
    "id": "taw3yBttPsVw"
   },
   "outputs": [],
   "source": [
    "# 1.Write a code to reverse a string.\n",
    "\n",
    "#Answer 1:\n",
    "\n",
    "def reverse_string(string):\n",
    "    reversed_string = \"\"\n",
    "    for i in range(len(string) - 1, -1, -1):\n",
    "        reversed_string += string[i]\n",
    "    return reversed_string"
   ]
  },
  {
   "cell_type": "code",
   "execution_count": null,
   "metadata": {
    "colab": {
     "base_uri": "https://localhost:8080/",
     "height": 36
    },
    "executionInfo": {
     "elapsed": 19,
     "status": "ok",
     "timestamp": 1723003232725,
     "user": {
      "displayName": "Shazil Parwez",
      "userId": "17294264299167245854"
     },
     "user_tz": -330
    },
    "id": "MVe2bBVtQA3v",
    "outputId": "81d7112e-7476-4eb4-ab94-f94e29c27f3c"
   },
   "outputs": [
    {
     "data": {
      "application/vnd.google.colaboratory.intrinsic+json": {
       "type": "string"
      },
      "text/plain": [
       "'sllikswp'"
      ]
     },
     "execution_count": 21,
     "metadata": {},
     "output_type": "execute_result"
    }
   ],
   "source": [
    "reverse_string(\"pwskills\")"
   ]
  },
  {
   "cell_type": "code",
   "execution_count": null,
   "metadata": {
    "id": "uc2AR7YPQJUl"
   },
   "outputs": [],
   "source": [
    "# 2.Write a code to count the number of vowels in a string.\n",
    "\n",
    "#Answer 2:\n",
    "\n",
    "def count_vowels(string):\n",
    "    vowels = \"aeiouAEIOU\"\n",
    "    count = 0\n",
    "    for char in string:\n",
    "        if char in vowels:\n",
    "            count += 1\n",
    "    return count"
   ]
  },
  {
   "cell_type": "code",
   "execution_count": null,
   "metadata": {
    "colab": {
     "base_uri": "https://localhost:8080/"
    },
    "executionInfo": {
     "elapsed": 436,
     "status": "ok",
     "timestamp": 1722940967898,
     "user": {
      "displayName": "Shazil Parwez",
      "userId": "17294264299167245854"
     },
     "user_tz": -330
    },
    "id": "_4tvt6TXRadw",
    "outputId": "939faf6e-fca3-4968-acba-83be8d5a24f9"
   },
   "outputs": [
    {
     "data": {
      "text/plain": [
       "1"
      ]
     },
     "execution_count": 9,
     "metadata": {},
     "output_type": "execute_result"
    }
   ],
   "source": [
    "count_vowels(\"string\")"
   ]
  },
  {
   "cell_type": "code",
   "execution_count": null,
   "metadata": {
    "colab": {
     "base_uri": "https://localhost:8080/"
    },
    "executionInfo": {
     "elapsed": 485,
     "status": "ok",
     "timestamp": 1722943397710,
     "user": {
      "displayName": "Shazil Parwez",
      "userId": "17294264299167245854"
     },
     "user_tz": -330
    },
    "id": "RFOYflqCRyeO",
    "outputId": "961e2b6d-56bc-462f-b017-dee8586a2c24"
   },
   "outputs": [
    {
     "data": {
      "text/plain": [
       "1"
      ]
     },
     "execution_count": 10,
     "metadata": {},
     "output_type": "execute_result"
    }
   ],
   "source": [
    "count_vowels(\"pwskills\")"
   ]
  },
  {
   "cell_type": "code",
   "execution_count": null,
   "metadata": {
    "colab": {
     "base_uri": "https://localhost:8080/"
    },
    "executionInfo": {
     "elapsed": 459,
     "status": "ok",
     "timestamp": 1722943423411,
     "user": {
      "displayName": "Shazil Parwez",
      "userId": "17294264299167245854"
     },
     "user_tz": -330
    },
    "id": "oB0CLxYIbdqN",
    "outputId": "f7cf6e6d-28a5-481c-e571-f082b894ad7f"
   },
   "outputs": [
    {
     "data": {
      "text/plain": [
       "5"
      ]
     },
     "execution_count": 11,
     "metadata": {},
     "output_type": "execute_result"
    }
   ],
   "source": [
    "count_vowels(\"education\")"
   ]
  },
  {
   "cell_type": "code",
   "execution_count": null,
   "metadata": {
    "id": "FDCuZk6Sbj8V"
   },
   "outputs": [],
   "source": [
    "# 3.Write a code to check if a given string is a palindrome or not.\n",
    "\n",
    "#Answer 3:\n",
    "\n",
    "def is_palindrome(string):\n",
    "    reversed_string = reverse_string(string)\n",
    "    if string == reversed_string:\n",
    "        return True\n",
    "    else:\n",
    "        return False"
   ]
  },
  {
   "cell_type": "code",
   "execution_count": null,
   "metadata": {
    "colab": {
     "base_uri": "https://localhost:8080/"
    },
    "executionInfo": {
     "elapsed": 534,
     "status": "ok",
     "timestamp": 1722943571585,
     "user": {
      "displayName": "Shazil Parwez",
      "userId": "17294264299167245854"
     },
     "user_tz": -330
    },
    "id": "6UTlLQ0OcAAO",
    "outputId": "f171b824-3476-42ab-b8f3-0301465fff05"
   },
   "outputs": [
    {
     "data": {
      "text/plain": [
       "True"
      ]
     },
     "execution_count": 13,
     "metadata": {},
     "output_type": "execute_result"
    }
   ],
   "source": [
    "is_palindrome(\"radar\")"
   ]
  },
  {
   "cell_type": "code",
   "execution_count": null,
   "metadata": {
    "colab": {
     "base_uri": "https://localhost:8080/"
    },
    "executionInfo": {
     "elapsed": 474,
     "status": "ok",
     "timestamp": 1722943609386,
     "user": {
      "displayName": "Shazil Parwez",
      "userId": "17294264299167245854"
     },
     "user_tz": -330
    },
    "id": "bANBJJ0GcIF9",
    "outputId": "b5886fd9-09b6-4f9e-e1a4-265bfbda4fbc"
   },
   "outputs": [
    {
     "data": {
      "text/plain": [
       "False"
      ]
     },
     "execution_count": 14,
     "metadata": {},
     "output_type": "execute_result"
    }
   ],
   "source": [
    "is_palindrome('eclipse')"
   ]
  },
  {
   "cell_type": "code",
   "execution_count": null,
   "metadata": {
    "id": "VwKvj2lHcRWO"
   },
   "outputs": [],
   "source": [
    "# 4.Write a code to check if two given strings are anagrams of each other.\n",
    "\n",
    "#Answer 4:\n",
    "\n",
    "def is_anagram(string1, string2):\n",
    "    if len(string1) != len(string2):\n",
    "        return False\n",
    "    else:\n",
    "        return sorted(string1) == sorted(string2)"
   ]
  },
  {
   "cell_type": "code",
   "execution_count": null,
   "metadata": {
    "colab": {
     "base_uri": "https://localhost:8080/"
    },
    "executionInfo": {
     "elapsed": 500,
     "status": "ok",
     "timestamp": 1722943928251,
     "user": {
      "displayName": "Shazil Parwez",
      "userId": "17294264299167245854"
     },
     "user_tz": -330
    },
    "id": "EeCziXBHdYeU",
    "outputId": "b12cadbe-7c57-43bc-d24f-2769371fa4ca"
   },
   "outputs": [
    {
     "data": {
      "text/plain": [
       "True"
      ]
     },
     "execution_count": 23,
     "metadata": {},
     "output_type": "execute_result"
    }
   ],
   "source": [
    "is_anagram(\"listen\", \"silent\")"
   ]
  },
  {
   "cell_type": "code",
   "execution_count": null,
   "metadata": {
    "colab": {
     "base_uri": "https://localhost:8080/"
    },
    "executionInfo": {
     "elapsed": 483,
     "status": "ok",
     "timestamp": 1722943960586,
     "user": {
      "displayName": "Shazil Parwez",
      "userId": "17294264299167245854"
     },
     "user_tz": -330
    },
    "id": "Lm7HWE__de75",
    "outputId": "7a17f476-a999-469e-d29b-f363a1d2d21a"
   },
   "outputs": [
    {
     "data": {
      "text/plain": [
       "True"
      ]
     },
     "execution_count": 24,
     "metadata": {},
     "output_type": "execute_result"
    }
   ],
   "source": [
    "is_anagram(\"cinema\", \"iceman\")"
   ]
  },
  {
   "cell_type": "code",
   "execution_count": null,
   "metadata": {
    "colab": {
     "base_uri": "https://localhost:8080/"
    },
    "executionInfo": {
     "elapsed": 468,
     "status": "ok",
     "timestamp": 1722944006542,
     "user": {
      "displayName": "Shazil Parwez",
      "userId": "17294264299167245854"
     },
     "user_tz": -330
    },
    "id": "xUxvchXRdnFs",
    "outputId": "65d12915-815e-4d95-9ff6-907a0b551445"
   },
   "outputs": [
    {
     "data": {
      "text/plain": [
       "False"
      ]
     },
     "execution_count": 26,
     "metadata": {},
     "output_type": "execute_result"
    }
   ],
   "source": [
    "is_anagram('cave', 'race')"
   ]
  },
  {
   "cell_type": "code",
   "execution_count": 33,
   "metadata": {
    "colab": {
     "base_uri": "https://localhost:8080/"
    },
    "executionInfo": {
     "elapsed": 500,
     "status": "ok",
     "timestamp": 1723168624954,
     "user": {
      "displayName": "Shazil Parwez",
      "userId": "17294264299167245854"
     },
     "user_tz": -330
    },
    "id": "3OR8Fphqdvz9",
    "outputId": "8492e419-d7ba-4509-9534-7ebf0b5b6876"
   },
   "outputs": [
    {
     "name": "stdout",
     "output_type": "stream",
     "text": [
      "Occurrences found at indices: [10, 28, 50]\n"
     ]
    }
   ],
   "source": [
    "# 5.Write a code to find all occurences of a given substring within another string.\n",
    "\n",
    "#Answer 5:\n",
    "\n",
    "def find_all_occurrences(haystack, needle):\n",
    "    \"\"\"\n",
    "    Find all occurrences of a substring (needle) within another string (haystack).\n",
    "\n",
    "    Args:\n",
    "    haystack (str): The string to search within.\n",
    "    needle (str): The substring to search for.\n",
    "\n",
    "    Returns:\n",
    "    list: A list of starting indices where the substring is found.\n",
    "    \"\"\"\n",
    "    indices = []\n",
    "    start = 0\n",
    "    while True:\n",
    "        start = haystack.find(needle, start)\n",
    "        if start == -1:\n",
    "            break\n",
    "        indices.append(start)\n",
    "        start += len(needle)\n",
    "\n",
    "    return indices\n",
    "haystack = \"This is a test string. This test string is just a test.\"\n",
    "needle = \"test\"\n",
    "occurrences = find_all_occurrences(haystack, needle)\n",
    "print(\"Occurrences found at indices:\", occurrences)\n",
    "\n"
   ]
  },
  {
   "cell_type": "code",
   "execution_count": 34,
   "metadata": {
    "colab": {
     "base_uri": "https://localhost:8080/"
    },
    "executionInfo": {
     "elapsed": 536,
     "status": "ok",
     "timestamp": 1723168647066,
     "user": {
      "displayName": "Shazil Parwez",
      "userId": "17294264299167245854"
     },
     "user_tz": -330
    },
    "id": "ZXt2uztWfO_1",
    "outputId": "adf4c957-a2d0-49bd-83f6-bef3f8c32520"
   },
   "outputs": [
    {
     "name": "stdout",
     "output_type": "stream",
     "text": [
      "Compressed string: a3b2c1a3\n"
     ]
    }
   ],
   "source": [
    "# 6.Write a code to perform basic string compression using the counts of repeated characters.\n",
    "\n",
    "#Answer 6:\n",
    "\n",
    "def compress_string(s):\n",
    "    \"\"\"\n",
    "    Compress a string by counting consecutive repeated characters.\n",
    "\n",
    "    Args:\n",
    "    s (str): The input string to be compressed.\n",
    "\n",
    "    Returns:\n",
    "    str: The compressed version of the input string.\n",
    "    \"\"\"\n",
    "    if not s:\n",
    "        return \"\"\n",
    "\n",
    "    compressed = []\n",
    "    count = 1\n",
    "\n",
    "    for i in range(1, len(s)):\n",
    "        if s[i] == s[i - 1]:\n",
    "            count += 1\n",
    "        else:\n",
    "            compressed.append(s[i - 1] + str(count))\n",
    "            count = 1\n",
    "    compressed.append(s[-1] + str(count))\n",
    "    compressed_string = ''.join(compressed)\n",
    "    return compressed_string if len(compressed_string) < len(s) else s\n",
    "input_string = \"aaabbcaaa\"\n",
    "compressed_string = compress_string(input_string)\n",
    "print(\"Compressed string:\", compressed_string)\n"
   ]
  },
  {
   "cell_type": "code",
   "execution_count": null,
   "metadata": {
    "id": "plnwQeCWf9li"
   },
   "outputs": [],
   "source": [
    "# 7.Write a code to determine if a string has all unique characters.\n",
    "\n",
    "#Answer 7:\n",
    "\n",
    "def unique_characters(string):\n",
    "    char_set = set()\n",
    "    for char in string:\n",
    "        if char in char_set:\n",
    "            return False\n",
    "        char_set.add(char)\n",
    "    return True"
   ]
  },
  {
   "cell_type": "code",
   "execution_count": null,
   "metadata": {
    "colab": {
     "base_uri": "https://localhost:8080/"
    },
    "executionInfo": {
     "elapsed": 479,
     "status": "ok",
     "timestamp": 1722945140300,
     "user": {
      "displayName": "Shazil Parwez",
      "userId": "17294264299167245854"
     },
     "user_tz": -330
    },
    "id": "W7JQ0ApIhPp4",
    "outputId": "79fea246-6d67-40be-bfc5-aee14414e4fb"
   },
   "outputs": [
    {
     "data": {
      "text/plain": [
       "True"
      ]
     },
     "execution_count": 46,
     "metadata": {},
     "output_type": "execute_result"
    }
   ],
   "source": [
    "unique_characters(\"education\")"
   ]
  },
  {
   "cell_type": "code",
   "execution_count": null,
   "metadata": {
    "colab": {
     "base_uri": "https://localhost:8080/"
    },
    "executionInfo": {
     "elapsed": 489,
     "status": "ok",
     "timestamp": 1722948677864,
     "user": {
      "displayName": "Shazil Parwez",
      "userId": "17294264299167245854"
     },
     "user_tz": -330
    },
    "id": "wXCqC20dhYLp",
    "outputId": "44173e17-b117-484d-a4a5-1941bb41e4d2"
   },
   "outputs": [
    {
     "data": {
      "text/plain": [
       "False"
      ]
     },
     "execution_count": 48,
     "metadata": {},
     "output_type": "execute_result"
    }
   ],
   "source": [
    "unique_characters(\"pwskills\")"
   ]
  },
  {
   "cell_type": "code",
   "execution_count": null,
   "metadata": {
    "id": "N6OnR2u_vmxP"
   },
   "outputs": [],
   "source": [
    "# 8.Write a code to convert a given string to uppercase or lowercase.\n",
    "\n",
    "#Answer 8:\n",
    "\n",
    "def convert_case(string, case):\n",
    "    if case == \"upper\":\n",
    "        return string.upper()\n",
    "    elif case == \"lower\":\n",
    "        return string.lower()"
   ]
  },
  {
   "cell_type": "code",
   "execution_count": null,
   "metadata": {
    "colab": {
     "base_uri": "https://localhost:8080/",
     "height": 36
    },
    "executionInfo": {
     "elapsed": 484,
     "status": "ok",
     "timestamp": 1722948911896,
     "user": {
      "displayName": "Shazil Parwez",
      "userId": "17294264299167245854"
     },
     "user_tz": -330
    },
    "id": "tvXGdCybwTzn",
    "outputId": "d47b2ca0-3cd2-4eb4-e771-9c522873b3f3"
   },
   "outputs": [
    {
     "data": {
      "application/vnd.google.colaboratory.intrinsic+json": {
       "type": "string"
      },
      "text/plain": [
       "'PWSKILLS'"
      ]
     },
     "execution_count": 51,
     "metadata": {},
     "output_type": "execute_result"
    }
   ],
   "source": [
    "convert_case(\"pwskills\", \"upper\")"
   ]
  },
  {
   "cell_type": "code",
   "execution_count": null,
   "metadata": {
    "colab": {
     "base_uri": "https://localhost:8080/",
     "height": 36
    },
    "executionInfo": {
     "elapsed": 714,
     "status": "ok",
     "timestamp": 1722949099292,
     "user": {
      "displayName": "Shazil Parwez",
      "userId": "17294264299167245854"
     },
     "user_tz": -330
    },
    "id": "P5ZxYBmZwf5t",
    "outputId": "d8b64a33-0824-44d9-ef53-3115ff2d7f8a"
   },
   "outputs": [
    {
     "data": {
      "application/vnd.google.colaboratory.intrinsic+json": {
       "type": "string"
      },
      "text/plain": [
       "'rectus femoris'"
      ]
     },
     "execution_count": 57,
     "metadata": {},
     "output_type": "execute_result"
    }
   ],
   "source": [
    "convert_case(\"RECTUS FEMORIS\", \"lower\")"
   ]
  },
  {
   "cell_type": "code",
   "execution_count": null,
   "metadata": {
    "id": "AsBQlFhPw7wd"
   },
   "outputs": [],
   "source": [
    "# 9.Write a code to count the number of words in a string.\n",
    "\n",
    "#Answer 9:\n",
    "\n",
    "def count_words(string):\n",
    "    words = string.split()\n",
    "    return len(words)"
   ]
  },
  {
   "cell_type": "code",
   "execution_count": null,
   "metadata": {
    "colab": {
     "base_uri": "https://localhost:8080/"
    },
    "executionInfo": {
     "elapsed": 487,
     "status": "ok",
     "timestamp": 1722949285422,
     "user": {
      "displayName": "Shazil Parwez",
      "userId": "17294264299167245854"
     },
     "user_tz": -330
    },
    "id": "ln9fxROexyIu",
    "outputId": "7a9c4b2a-7212-42fd-ff65-fe33762bcf98"
   },
   "outputs": [
    {
     "data": {
      "text/plain": [
       "1"
      ]
     },
     "execution_count": 60,
     "metadata": {},
     "output_type": "execute_result"
    }
   ],
   "source": [
    "count_words(\"pwskills\")"
   ]
  },
  {
   "cell_type": "code",
   "execution_count": null,
   "metadata": {
    "colab": {
     "base_uri": "https://localhost:8080/"
    },
    "executionInfo": {
     "elapsed": 765,
     "status": "ok",
     "timestamp": 1722949912423,
     "user": {
      "displayName": "Shazil Parwez",
      "userId": "17294264299167245854"
     },
     "user_tz": -330
    },
    "id": "1jz3kp5ux7GC",
    "outputId": "347f1c0c-992e-49f9-d7ca-69eeed37851c"
   },
   "outputs": [
    {
     "name": "stdout",
     "output_type": "stream",
     "text": [
      "Concatenated string: Google Collab\n"
     ]
    }
   ],
   "source": [
    " # 10.Write a code to concatenate two strings without using the + operator.\n",
    "\n",
    " #Answer 10:\n",
    "\n",
    " def concatenate_strings(s1, s2):\n",
    "    return ''.join([s1, s2])\n",
    "\n",
    "s1 = \"Google \"\n",
    "s2 = \"Collab\"\n",
    "result = concatenate_strings(s1, s2)\n",
    "print(\"Concatenated string:\", result)\n"
   ]
  },
  {
   "cell_type": "code",
   "execution_count": null,
   "metadata": {
    "id": "aTvn1M-jzMPy"
   },
   "outputs": [],
   "source": [
    "# 11.Write a code to remove all occurrences of a specifc element from a list.\n",
    "\n",
    "#Answer 11:\n",
    "\n",
    "def remove_all_occurrences(lst, element):\n",
    "    return [x for x in lst if x != element]"
   ]
  },
  {
   "cell_type": "code",
   "execution_count": null,
   "metadata": {
    "colab": {
     "base_uri": "https://localhost:8080/"
    },
    "executionInfo": {
     "elapsed": 495,
     "status": "ok",
     "timestamp": 1722955901948,
     "user": {
      "displayName": "Shazil Parwez",
      "userId": "17294264299167245854"
     },
     "user_tz": -330
    },
    "id": "OMKdZ3CE1AXn",
    "outputId": "b1f47f3e-3b97-4280-9de1-794ee37918e6"
   },
   "outputs": [
    {
     "data": {
      "text/plain": [
       "[1, 2, 4, 5]"
      ]
     },
     "execution_count": 71,
     "metadata": {},
     "output_type": "execute_result"
    }
   ],
   "source": [
    "remove_all_occurrences([1,2, 3, 4, 5], 3)"
   ]
  },
  {
   "cell_type": "code",
   "execution_count": null,
   "metadata": {
    "colab": {
     "base_uri": "https://localhost:8080/"
    },
    "executionInfo": {
     "elapsed": 486,
     "status": "ok",
     "timestamp": 1722956016350,
     "user": {
      "displayName": "Shazil Parwez",
      "userId": "17294264299167245854"
     },
     "user_tz": -330
    },
    "id": "vfC3BY8ELKXn",
    "outputId": "c3a07e85-bd97-4268-b0ed-0a02ab762fc3"
   },
   "outputs": [
    {
     "data": {
      "text/plain": [
       "['Potato', 'Tomato', 'Brinjal', 'Carrot']"
      ]
     },
     "execution_count": 75,
     "metadata": {},
     "output_type": "execute_result"
    }
   ],
   "source": [
    "remove_all_occurrences([\"Potato\", \"Tomato\", \"Brinjal\", \"Carrot\", \"Apple\"], \"Apple\")"
   ]
  },
  {
   "cell_type": "code",
   "execution_count": 35,
   "metadata": {
    "colab": {
     "base_uri": "https://localhost:8080/"
    },
    "executionInfo": {
     "elapsed": 469,
     "status": "ok",
     "timestamp": 1723168704056,
     "user": {
      "displayName": "Shazil Parwez",
      "userId": "17294264299167245854"
     },
     "user_tz": -330
    },
    "id": "nx3YOj45LWrk",
    "outputId": "be1313b9-6035-45c8-b1ae-f2669267c321"
   },
   "outputs": [
    {
     "name": "stdout",
     "output_type": "stream",
     "text": [
      "The second largest number is: 40\n"
     ]
    }
   ],
   "source": [
    "# 12.Implement a code to find the second largest number in a given list of integers.\n",
    "\n",
    "#Answer 12:\n",
    "\n",
    "def find_second_largest(nums):\n",
    "    if len(nums) < 2:\n",
    "        raise ValueError(\"List must contain at least two distinct numbers\")\n",
    "    largest = second_largest = None\n",
    "    for num in nums:\n",
    "        if largest is None or num > largest:\n",
    "            second_largest = largest\n",
    "            largest = num\n",
    "        elif num != largest and (second_largest is None or num > second_largest):\n",
    "            second_largest = num\n",
    "    if second_largest is None:\n",
    "        raise ValueError(\"There is no second distinct largest number\")\n",
    "\n",
    "    return second_largest\n",
    "numbers = [10, 20, 4, 20, 40, 50, 50]\n",
    "print(\"The second largest number is:\", find_second_largest(numbers))\n",
    "\n"
   ]
  },
  {
   "cell_type": "code",
   "execution_count": null,
   "metadata": {
    "colab": {
     "base_uri": "https://localhost:8080/"
    },
    "executionInfo": {
     "elapsed": 814,
     "status": "ok",
     "timestamp": 1723002809397,
     "user": {
      "displayName": "Shazil Parwez",
      "userId": "17294264299167245854"
     },
     "user_tz": -330
    },
    "id": "9UQVfsgc6gzn",
    "outputId": "58f2eccb-61aa-491e-c24c-697d4e6d8a7d"
   },
   "outputs": [
    {
     "name": "stdout",
     "output_type": "stream",
     "text": [
      "Occurrences: {1: 1, 2: 3, 3: 4, 4: 5, 5: 5, 6: 2, 7: 2, 8: 2, 9: 2, 10: 1, 943: 1}\n"
     ]
    }
   ],
   "source": [
    "# 13.Create a code to count the occurrences of each element in a list and return a dictionary with elements as keys and their counts as values.\n",
    "\n",
    "#Answer 13:\n",
    "\n",
    "def count_occurrences(lst):\n",
    "    count_dict = {}\n",
    "    for element in lst:\n",
    "        if element in count_dict:\n",
    "            count_dict[element] += 1\n",
    "        else:\n",
    "            count_dict[element] = 1\n",
    "    return count_dict\n",
    "numbers = [1, 2, 2, 3, 3, 3, 4, 4, 4, 4, 5, 5, 5, 6, 7, 6, 8, 5, 4, 3, 5 ,2 ,7 ,8, 9, 10, 9, 943]\n",
    "print(\"Occurrences:\", count_occurrences(numbers))\n"
   ]
  },
  {
   "cell_type": "code",
   "execution_count": null,
   "metadata": {
    "colab": {
     "base_uri": "https://localhost:8080/"
    },
    "executionInfo": {
     "elapsed": 595,
     "status": "ok",
     "timestamp": 1723003197993,
     "user": {
      "displayName": "Shazil Parwez",
      "userId": "17294264299167245854"
     },
     "user_tz": -330
    },
    "id": "PsUIlHGm-GV3",
    "outputId": "dca5a7c0-6681-411e-c770-84d23e13df8c"
   },
   "outputs": [
    {
     "name": "stdout",
     "output_type": "stream",
     "text": [
      "[5, 4, 3, 2, 1]\n"
     ]
    }
   ],
   "source": [
    "# 14.Write a code to reverse a list in-place without using any built-in reverse functions.\n",
    "\n",
    "#Answer 14:\n",
    "\n",
    "def reverse_list_in_place(lst):\n",
    "    start = 0\n",
    "    end = len(lst) - 1\n",
    "    while start < end:\n",
    "        lst[start], lst[end] = lst[end], lst[start]\n",
    "        start += 1\n",
    "        end -= 1\n",
    "my_list = [1, 2, 3, 4, 5]\n",
    "reverse_list_in_place(my_list)\n",
    "print(my_list)\n",
    "\n",
    "\n",
    "\n"
   ]
  },
  {
   "cell_type": "code",
   "execution_count": null,
   "metadata": {
    "colab": {
     "base_uri": "https://localhost:8080/"
    },
    "executionInfo": {
     "elapsed": 591,
     "status": "ok",
     "timestamp": 1723003423886,
     "user": {
      "displayName": "Shazil Parwez",
      "userId": "17294264299167245854"
     },
     "user_tz": -330
    },
    "id": "BWXr9BQ2_Mxf",
    "outputId": "924467ea-2043-468f-abe6-5b424ec81ffa"
   },
   "outputs": [
    {
     "name": "stdout",
     "output_type": "stream",
     "text": [
      "[1, 2, 3, 4, 5]\n"
     ]
    }
   ],
   "source": [
    "# 15.Implement a code to find and remove duplicates from a list while preserving the original order of elements.\n",
    "\n",
    "#Answer 15:\n",
    "\n",
    "def remove_duplicates_preserve_order(lst):\n",
    "    seen = set()\n",
    "    result = []\n",
    "\n",
    "    for item in lst:\n",
    "        if item not in seen:\n",
    "            seen.add(item)\n",
    "            result.append(item)\n",
    "\n",
    "    return result\n",
    "\n",
    "my_list = [1, 2, 3, 2, 4, 1, 5]\n",
    "cleaned_list = remove_duplicates_preserve_order(my_list)\n",
    "print(cleaned_list)\n",
    "\n"
   ]
  },
  {
   "cell_type": "code",
   "execution_count": 36,
   "metadata": {
    "colab": {
     "base_uri": "https://localhost:8080/"
    },
    "executionInfo": {
     "elapsed": 565,
     "status": "ok",
     "timestamp": 1723168739506,
     "user": {
      "displayName": "Shazil Parwez",
      "userId": "17294264299167245854"
     },
     "user_tz": -330
    },
    "id": "7vD0pqiVAQdP",
    "outputId": "3ee96b99-011b-49af-b420-563221395ab4"
   },
   "outputs": [
    {
     "name": "stdout",
     "output_type": "stream",
     "text": [
      "The list is sorted in ascending order.\n",
      "The list is sorted in descending order.\n",
      "The list is not sorted.\n",
      "The list is empty.\n"
     ]
    }
   ],
   "source": [
    "# 16.Create a code to check if a given list is sorted (either in ascending or descending order) or not.\n",
    "\n",
    "#Answer 16:\n",
    "\n",
    "def check_sorted(lst):\n",
    "    if not lst:\n",
    "        return \"The list is empty.\"\n",
    "    is_ascending = all(lst[i] <= lst[i + 1] for i in range(len(lst) - 1))\n",
    "    is_descending = all(lst[i] >= lst[i + 1] for i in range(len(lst) - 1))\n",
    "\n",
    "    if is_ascending:\n",
    "        return \"The list is sorted in ascending order.\"\n",
    "    elif is_descending:\n",
    "        return \"The list is sorted in descending order.\"\n",
    "    else:\n",
    "        return \"The list is not sorted.\"\n",
    "\n",
    "print(check_sorted([1, 2, 3, 4, 5]))\n",
    "print(check_sorted([5, 4, 3, 2, 1]))\n",
    "print(check_sorted([1, 3, 2, 4, 5]))\n",
    "print(check_sorted([]))"
   ]
  },
  {
   "cell_type": "code",
   "execution_count": 37,
   "metadata": {
    "colab": {
     "base_uri": "https://localhost:8080/"
    },
    "executionInfo": {
     "elapsed": 470,
     "status": "ok",
     "timestamp": 1723168773322,
     "user": {
      "displayName": "Shazil Parwez",
      "userId": "17294264299167245854"
     },
     "user_tz": -330
    },
    "id": "GDiN1qslkLtQ",
    "outputId": "f5af360c-2638-4bec-88a5-3345fb8aa141"
   },
   "outputs": [
    {
     "name": "stdout",
     "output_type": "stream",
     "text": [
      "[1, 2, 3, 4, 5, 6, 7, 8]\n"
     ]
    }
   ],
   "source": [
    "# 17.Write a code to merge two sorted lists into a single sorted list.\n",
    "\n",
    "#Answer 17:\n",
    "\n",
    "def merge_sorted_lists(list1, list2):\n",
    "    merged_list = []\n",
    "    i, j = 0, 0\n",
    "    while i < len(list1) and j < len(list2):\n",
    "        if list1[i] <= list2[j]:\n",
    "            merged_list.append(list1[i])\n",
    "            i += 1\n",
    "        else:\n",
    "            merged_list.append(list2[j])\n",
    "            j += 1\n",
    "    while i < len(list1):\n",
    "        merged_list.append(list1[i])\n",
    "        i += 1\n",
    "    while j < len(list2):\n",
    "        merged_list.append(list2[j])\n",
    "        j += 1\n",
    "\n",
    "    return merged_list\n",
    "list1 = [1, 3, 5, 7]\n",
    "list2 = [2, 4, 6, 8]\n",
    "\n",
    "merged = merge_sorted_lists(list1, list2)\n",
    "print(merged)\n"
   ]
  },
  {
   "cell_type": "code",
   "execution_count": null,
   "metadata": {
    "colab": {
     "base_uri": "https://localhost:8080/"
    },
    "executionInfo": {
     "elapsed": 526,
     "status": "ok",
     "timestamp": 1723031141265,
     "user": {
      "displayName": "Shazil Parwez",
      "userId": "17294264299167245854"
     },
     "user_tz": -330
    },
    "id": "4KmNnriin_bL",
    "outputId": "a73fbe21-35ba-4042-d089-766fa9fccc99"
   },
   "outputs": [
    {
     "name": "stdout",
     "output_type": "stream",
     "text": [
      "[4, 5]\n"
     ]
    }
   ],
   "source": [
    "# 18.Implement a code to find the intersection of two given lists.\n",
    "\n",
    "#Answer 18:\n",
    "\n",
    "def find_intersection(list1, list2):\n",
    "    set1 = set(list1)\n",
    "    set2 = set(list2)\n",
    "    intersection = set1.intersection(set2)\n",
    "    return list(intersection)\n",
    "\n",
    "list1 = [1, 2, 3, 4, 5]\n",
    "list2 = [4, 5, 6, 7, 8]\n",
    "intersection = find_intersection(list1, list2)\n",
    "print(intersection)"
   ]
  },
  {
   "cell_type": "code",
   "execution_count": 40,
   "metadata": {
    "colab": {
     "base_uri": "https://localhost:8080/"
    },
    "executionInfo": {
     "elapsed": 641,
     "status": "ok",
     "timestamp": 1723168858288,
     "user": {
      "displayName": "Shazil Parwez",
      "userId": "17294264299167245854"
     },
     "user_tz": -330
    },
    "id": "0V_sjjhHo4cz",
    "outputId": "509c0f88-688b-4451-a6b4-5aed98ffc94c"
   },
   "outputs": [
    {
     "name": "stdout",
     "output_type": "stream",
     "text": [
      "[1, 2, 3, 4, 5, 6, 7, 8]\n"
     ]
    }
   ],
   "source": [
    "# 19.Create a code to find the union of two lists without duplicates.\n",
    "\n",
    "#Answer 19:\n",
    "\n",
    "def union_of_lists(list1, list2):\n",
    "    combined_list = list1 + list2\n",
    "    unique_list = list(set(combined_list))\n",
    "\n",
    "    return unique_list\n",
    "\n",
    "list1 = [1, 2, 3, 4, 5]\n",
    "list2 = [4, 5, 6, 7, 8]\n",
    "\n",
    "union_list = union_of_lists(list1, list2)\n",
    "print(union_list)\n"
   ]
  },
  {
   "cell_type": "code",
   "execution_count": 42,
   "metadata": {
    "colab": {
     "base_uri": "https://localhost:8080/"
    },
    "executionInfo": {
     "elapsed": 502,
     "status": "ok",
     "timestamp": 1723168897509,
     "user": {
      "displayName": "Shazil Parwez",
      "userId": "17294264299167245854"
     },
     "user_tz": -330
    },
    "id": "Q_avWWWtsQst",
    "outputId": "1d3019b6-5942-4597-960a-bb678ef28845"
   },
   "outputs": [
    {
     "name": "stdout",
     "output_type": "stream",
     "text": [
      "[2, 5, 1, 4, 3]\n"
     ]
    }
   ],
   "source": [
    "# 20.Write a code to shuffle a given list randomly without using any built-in shuffle functions.\n",
    "\n",
    "#Answer 20:\n",
    "import random\n",
    "\n",
    "def shuffle_list(lst):\n",
    "    for i in range(len(lst) - 1, 0, -1):\n",
    "        j = random.randint(0, i)\n",
    "        lst[i], lst[j] = lst[j], lst[i]\n",
    "\n",
    "    return lst\n",
    "my_list = [1, 2, 3, 4, 5]\n",
    "shuffled_list = shuffle_list(my_list)\n",
    "print(shuffled_list)\n"
   ]
  },
  {
   "cell_type": "code",
   "execution_count": 43,
   "metadata": {
    "colab": {
     "base_uri": "https://localhost:8080/"
    },
    "executionInfo": {
     "elapsed": 484,
     "status": "ok",
     "timestamp": 1723168937365,
     "user": {
      "displayName": "Shazil Parwez",
      "userId": "17294264299167245854"
     },
     "user_tz": -330
    },
    "id": "lhrmyDOluW10",
    "outputId": "e79f719b-33d5-4c97-9b1d-a5e86d6580b4"
   },
   "outputs": [
    {
     "name": "stdout",
     "output_type": "stream",
     "text": [
      "(3, 4)\n"
     ]
    }
   ],
   "source": [
    "# 21.Write a code that takes two tuples as input and returns a new tuple containing elements that are common to both input tuples.\n",
    "\n",
    "#Answer 21:\n",
    "\n",
    "def common_elements(tuple1, tuple2):\n",
    "    set1 = set(tuple1)\n",
    "    set2 = set(tuple2)\n",
    "    common_set = set1.intersection(set2)\n",
    "    common_tuple = tuple(common_set)\n",
    "\n",
    "    return common_tuple\n",
    "\n",
    "tuple1 = (1, 2, 3, 4)\n",
    "tuple2 = (3, 4, 5, 6)\n",
    "result = common_elements(tuple1, tuple2)\n",
    "print(result)"
   ]
  },
  {
   "cell_type": "code",
   "execution_count": 2,
   "metadata": {
    "colab": {
     "base_uri": "https://localhost:8080/"
    },
    "executionInfo": {
     "elapsed": 35714,
     "status": "ok",
     "timestamp": 1723163143237,
     "user": {
      "displayName": "Shazil Parwez",
      "userId": "17294264299167245854"
     },
     "user_tz": -330
    },
    "id": "aldOq2sGgYE6",
    "outputId": "830dff51-f6a4-49a2-96cc-9bbb53c4307f"
   },
   "outputs": [
    {
     "name": "stdout",
     "output_type": "stream",
     "text": [
      "Enter the first set of integers separated by commas: 1,2,3,4,5\n",
      "Enter the second set of integers separated by commas: 9,3,0,4,6\n",
      "The intersection of the two sets is: {3, 4}\n"
     ]
    }
   ],
   "source": [
    "# 22.Create a code that prompts the user to enter two sets of integers separated by commas. Then, print the intersection of these two sets.\n",
    "\n",
    "#Answer 22:\n",
    "\n",
    "def get_integer_set(prompt):\n",
    "    input_str = input(prompt)\n",
    "\n",
    "    # Convert the input string to a set of integers\n",
    "    try:\n",
    "        # Split the input string by commas, strip whitespace, and convert to integers\n",
    "        int_set = set(map(int, input_str.split(',')))\n",
    "    except ValueError:\n",
    "        print(\"Invalid input. Please enter integers separated by commas.\")\n",
    "        return set()\n",
    "\n",
    "    return int_set\n",
    "\n",
    "def main():\n",
    "    set1 = get_integer_set(\"Enter the first set of integers separated by commas: \")\n",
    "    set2 = get_integer_set(\"Enter the second set of integers separated by commas: \")\n",
    "    intersection = set1.intersection(set2)\n",
    "    print(\"The intersection of the two sets is:\", intersection)\n",
    "\n",
    "if __name__ == \"__main__\":\n",
    "    main()"
   ]
  },
  {
   "cell_type": "code",
   "execution_count": 10,
   "metadata": {
    "colab": {
     "base_uri": "https://localhost:8080/"
    },
    "executionInfo": {
     "elapsed": 519,
     "status": "ok",
     "timestamp": 1723163704220,
     "user": {
      "displayName": "Shazil Parwez",
      "userId": "17294264299167245854"
     },
     "user_tz": -330
    },
    "id": "R84mOjx2hl2m",
    "outputId": "68abf53f-0ffa-438e-874e-62d32a117a4f"
   },
   "outputs": [
    {
     "name": "stdout",
     "output_type": "stream",
     "text": [
      "(1, 2, 3, 4, 5, 6)\n"
     ]
    }
   ],
   "source": [
    "# 23.Write a code to concatenate two tuples. The function should take two tuples as input and return a new tupple containing elements from both input tuples.\n",
    "\n",
    "#Answer 23:\n",
    "\n",
    "def concatenate_tuples(tuple1, tuple2):\n",
    "    concatenated_tuple = tuple1 + tuple2\n",
    "    return concatenated_tuple\n",
    "tuple1 = (1, 2, 3)\n",
    "tuple2 = (4, 5, 6)\n",
    "print(concatenate_tuples(tuple1, tuple2))"
   ]
  },
  {
   "cell_type": "code",
   "execution_count": 11,
   "metadata": {
    "colab": {
     "base_uri": "https://localhost:8080/"
    },
    "executionInfo": {
     "elapsed": 57066,
     "status": "ok",
     "timestamp": 1723164078538,
     "user": {
      "displayName": "Shazil Parwez",
      "userId": "17294264299167245854"
     },
     "user_tz": -330
    },
    "id": "NTQ15Sbniuzz",
    "outputId": "f95b64d5-8919-41fb-cc15-f77af3ffcd8b"
   },
   "outputs": [
    {
     "name": "stdout",
     "output_type": "stream",
     "text": [
      "Enter the first set of strings separated by commas: 6,9,4,5,6,7,78,8,5\n",
      "Enter the second set of strings separated by commas: 4,8,5,7,96,4,8,076,5,4\n",
      "Elements in the first set but not in the second set: {'6', '9', '78'}\n"
     ]
    }
   ],
   "source": [
    "# 24.Develop a code that prompts the user to input two sets of strings. Then, print the elements that are present in the first set but not in the second set.\n",
    "\n",
    "#Answer 24:\n",
    "\n",
    "def get_string_set(prompt):\n",
    "    \"\"\"\n",
    "    Prompts the user for a set of strings, separated by commas, and returns it as a set.\n",
    "    \"\"\"\n",
    "    input_str = input(prompt)\n",
    "    string_set = set(s.strip() for s in input_str.split(','))\n",
    "\n",
    "    return string_set\n",
    "\n",
    "def main():\n",
    "    set1 = get_string_set(\"Enter the first set of strings separated by commas: \")\n",
    "    set2 = get_string_set(\"Enter the second set of strings separated by commas: \")\n",
    "    difference = set1 - set2\n",
    "    print(\"Elements in the first set but not in the second set:\", difference)\n",
    "\n",
    "if __name__ == \"__main__\":\n",
    "    main()\n"
   ]
  },
  {
   "cell_type": "code",
   "execution_count": 13,
   "metadata": {
    "colab": {
     "base_uri": "https://localhost:8080/"
    },
    "executionInfo": {
     "elapsed": 516,
     "status": "ok",
     "timestamp": 1723164481755,
     "user": {
      "displayName": "Shazil Parwez",
      "userId": "17294264299167245854"
     },
     "user_tz": -330
    },
    "id": "nCtGfzc0lE_a",
    "outputId": "6425322f-fe3d-4e2d-99a1-521d3e61c579"
   },
   "outputs": [
    {
     "name": "stdout",
     "output_type": "stream",
     "text": [
      "(30, 40, 50)\n"
     ]
    }
   ],
   "source": [
    "# 25.Create a code that takes a tuple and two integers as input. The funtion should return a new tuple containing elements from the original tuple within the specified range of indices.\n",
    "\n",
    "#Answer 25:\n",
    "\n",
    "def slice_tuple(original_tuple, start_index, end_index):\n",
    "    \"\"\"\n",
    "    Returns a new tuple containing elements from the original tuple\n",
    "    within the specified range of indices (start_index to end_index inclusive).\n",
    "    \"\"\"\n",
    "    if not (0 <= start_index <= end_index < len(original_tuple)):\n",
    "        raise ValueError(\"Indices are out of range.\")\n",
    "    sliced_tuple = original_tuple[start_index:end_index + 1]\n",
    "\n",
    "    return sliced_tuple\n",
    "\n",
    "original_tuple = (10, 20, 30, 40, 50, 60, 70)\n",
    "start_index = 2\n",
    "end_index = 4\n",
    "result = slice_tuple(original_tuple, start_index, end_index)\n",
    "print(result)"
   ]
  },
  {
   "cell_type": "code",
   "execution_count": 14,
   "metadata": {
    "colab": {
     "base_uri": "https://localhost:8080/"
    },
    "executionInfo": {
     "elapsed": 36832,
     "status": "ok",
     "timestamp": 1723164997388,
     "user": {
      "displayName": "Shazil Parwez",
      "userId": "17294264299167245854"
     },
     "user_tz": -330
    },
    "id": "vmKwIA1mmxzc",
    "outputId": "e6c4d4a1-47f5-4dd8-9907-f08f62caa12c"
   },
   "outputs": [
    {
     "name": "stdout",
     "output_type": "stream",
     "text": [
      "Enter the first set of characters separated by commas: 9,2,3,6,1,4,7,5,0,4,1\n",
      "Enter the second set of characters separated by commas: 2,3,8,6,7,0,6,1,7,8,\n",
      "The union of the two sets is: {'', '2', '6', '3', '5', '1', '9', '0', '8', '7', '4'}\n"
     ]
    }
   ],
   "source": [
    "# 26.Write a code that prompts the user to input two sets of characters. Then, print the union of these two sets.\n",
    "\n",
    "#Answer 26:\n",
    "\n",
    "def get_character_set(prompt):\n",
    "    \"\"\"\n",
    "    Prompts the user for a set of characters, separated by commas, and returns it as a set.\n",
    "    \"\"\"\n",
    "    input_str = input(prompt)\n",
    "    char_set = set(s.strip() for s in input_str.split(','))\n",
    "\n",
    "    return char_set\n",
    "\n",
    "def main():\n",
    "    set1 = get_character_set(\"Enter the first set of characters separated by commas: \")\n",
    "    set2 = get_character_set(\"Enter the second set of characters separated by commas: \")\n",
    "    union_set = set1.union(set2)\n",
    "    print(\"The union of the two sets is:\", union_set)\n",
    "\n",
    "if __name__ == \"__main__\":\n",
    "    main()\n"
   ]
  },
  {
   "cell_type": "code",
   "execution_count": 15,
   "metadata": {
    "colab": {
     "base_uri": "https://localhost:8080/"
    },
    "executionInfo": {
     "elapsed": 593,
     "status": "ok",
     "timestamp": 1723165322954,
     "user": {
      "displayName": "Shazil Parwez",
      "userId": "17294264299167245854"
     },
     "user_tz": -330
    },
    "id": "u3h-DW4CoqQn",
    "outputId": "765fc992-11c6-449e-89c2-afb4d39371b3"
   },
   "outputs": [
    {
     "name": "stdout",
     "output_type": "stream",
     "text": [
      "Maximum value: 99\n",
      "Minimum value: 1\n"
     ]
    }
   ],
   "source": [
    "# 27.Develop a code that takes a tuple of integers as input. The function should return the maximum and minimum values from the tuple using tuple unpacking.\n",
    "\n",
    "#Answer 27:\n",
    "\n",
    "def find_max_min(values_tuple):\n",
    "    \"\"\"\n",
    "    Returns the maximum and minimum values from a tuple of integers using tuple unpacking.\n",
    "    \"\"\"\n",
    "    if not values_tuple:\n",
    "        raise ValueError(\"The input tuple is empty.\")\n",
    "    max_value = max(values_tuple)\n",
    "    min_value = min(values_tuple)\n",
    "    return max_value, min_value\n",
    "\n",
    "values_tuple = (10, 20, 4, 45, 99, 1)\n",
    "max_value, min_value = find_max_min(values_tuple)\n",
    "print(\"Maximum value:\", max_value)\n",
    "print(\"Minimum value:\", min_value)\n",
    "\n"
   ]
  },
  {
   "cell_type": "code",
   "execution_count": 16,
   "metadata": {
    "colab": {
     "base_uri": "https://localhost:8080/"
    },
    "executionInfo": {
     "elapsed": 483,
     "status": "ok",
     "timestamp": 1723165588109,
     "user": {
      "displayName": "Shazil Parwez",
      "userId": "17294264299167245854"
     },
     "user_tz": -330
    },
    "id": "LqsxjnAjqClw",
    "outputId": "6568b896-1a46-46f9-b168-3834886c0f5e"
   },
   "outputs": [
    {
     "name": "stdout",
     "output_type": "stream",
     "text": [
      "Set 1: {1, 2, 3, 4, 5}\n",
      "Set 2: {4, 5, 6, 7, 8}\n",
      "Union of Set 1 and Set 2: {1, 2, 3, 4, 5, 6, 7, 8}\n",
      "Intersection of Set 1 and Set 2: {4, 5}\n",
      "Difference of Set 1 and Set 2 (Set 1 - Set 2): {1, 2, 3}\n"
     ]
    }
   ],
   "source": [
    "# 28.Create a code that defines two sets of integers. Then, print the union, intersection, and difference of these two sets.\n",
    "\n",
    "#Answer 28:\n",
    "\n",
    "def main():\n",
    "    set1 = {1, 2, 3, 4, 5}\n",
    "    set2 = {4, 5, 6, 7, 8}\n",
    "    union_set = set1.union(set2)\n",
    "    intersection_set = set1.intersection(set2)\n",
    "    difference_set = set1.difference(set2)\n",
    "    print(\"Set 1:\", set1)\n",
    "    print(\"Set 2:\", set2)\n",
    "    print(\"Union of Set 1 and Set 2:\", union_set)\n",
    "    print(\"Intersection of Set 1 and Set 2:\", intersection_set)\n",
    "    print(\"Difference of Set 1 and Set 2 (Set 1 - Set 2):\", difference_set)\n",
    "\n",
    "if __name__ == \"__main__\":\n",
    "    main()\n"
   ]
  },
  {
   "cell_type": "code",
   "execution_count": 19,
   "metadata": {
    "colab": {
     "base_uri": "https://localhost:8080/"
    },
    "executionInfo": {
     "elapsed": 473,
     "status": "ok",
     "timestamp": 1723166123630,
     "user": {
      "displayName": "Shazil Parwez",
      "userId": "17294264299167245854"
     },
     "user_tz": -330
    },
    "id": "aVAt4TfirDXF",
    "outputId": "8e6b5f1e-5a6d-43b0-e119-2613854f2542"
   },
   "outputs": [
    {
     "name": "stdout",
     "output_type": "stream",
     "text": [
      "The element 2 appears 3 times in the tuple.\n"
     ]
    }
   ],
   "source": [
    "# 29.Write a code that takes a tuple and an element as input. The function should return the count of occurence of the given element in the tuple.\n",
    "\n",
    "#Answer 29:\n",
    "\n",
    "def count_element_in_tuple(input_tuple, element):\n",
    "    count = input_tuple.count(element)\n",
    "    return count\n",
    "input_tuple = (1, 2, 3, 2, 4, 2, 5)\n",
    "element = 2\n",
    "result = count_element_in_tuple(input_tuple, element)\n",
    "print(f\"The element {element} appears {result} times in the tuple.\")"
   ]
  },
  {
   "cell_type": "code",
   "execution_count": 20,
   "metadata": {
    "colab": {
     "base_uri": "https://localhost:8080/"
    },
    "executionInfo": {
     "elapsed": 47395,
     "status": "ok",
     "timestamp": 1723166482185,
     "user": {
      "displayName": "Shazil Parwez",
      "userId": "17294264299167245854"
     },
     "user_tz": -330
    },
    "id": "fBTyP6_ns5UK",
    "outputId": "03212118-45e3-4192-f799-f0703dafdfd8"
   },
   "outputs": [
    {
     "name": "stdout",
     "output_type": "stream",
     "text": [
      "Enter the first set of strings separated by commas: 2,6,1,7,9,0,4,5,6,3\n",
      "Enter the second set of strings separated by commas: 1,6,4,8,3,0,3,9,6,4\n",
      "The symmetric difference of the two sets is: {'2', '5', '8', '7'}\n"
     ]
    }
   ],
   "source": [
    "# 30.Develop a code that prompts the user to input two sets of strings. Then, print the symmetric difference of these two sets.\n",
    "\n",
    "#Answer 30:\n",
    "\n",
    "def get_string_set(prompt):\n",
    "    \"\"\"\n",
    "    Prompts the user for a set of strings separated by commas and returns it as a set.\n",
    "    \"\"\"\n",
    "    input_str = input(prompt)\n",
    "    string_set = set(s.strip() for s in input_str.split(','))\n",
    "\n",
    "    return string_set\n",
    "\n",
    "def main():\n",
    "    set1 = get_string_set(\"Enter the first set of strings separated by commas: \")\n",
    "    set2 = get_string_set(\"Enter the second set of strings separated by commas: \")\n",
    "    symmetric_difference = set1.symmetric_difference(set2)\n",
    "    print(\"The symmetric difference of the two sets is:\", symmetric_difference)\n",
    "\n",
    "if __name__ == \"__main__\":\n",
    "    main()\n"
   ]
  },
  {
   "cell_type": "code",
   "execution_count": 24,
   "metadata": {
    "colab": {
     "base_uri": "https://localhost:8080/"
    },
    "executionInfo": {
     "elapsed": 10625,
     "status": "ok",
     "timestamp": 1723167383908,
     "user": {
      "displayName": "Shazil Parwez",
      "userId": "17294264299167245854"
     },
     "user_tz": -330
    },
    "id": "kNgaawkUuSLu",
    "outputId": "98311c64-bf27-4c0c-dd5c-90f103466f51"
   },
   "outputs": [
    {
     "name": "stdout",
     "output_type": "stream",
     "text": [
      "Enter a list of words separated by spaces: apple banana apple Orange banana apple\n",
      "Word frequencies: {'apple': 3, 'banana': 2, 'orange': 1}\n"
     ]
    }
   ],
   "source": [
    "# 31.Write a code that takes a list of words as input and returns a dictionary where the keys are unique words and the values are the frequencies of those words in the input list.\n",
    "\n",
    "#Answer 31:\n",
    "\n",
    "def word_frequencies(word_list):\n",
    "    \"\"\"\n",
    "    Returns a dictionary where the keys are unique words from the list\n",
    "    and the values are the frequencies of those words in the list.\n",
    "    \"\"\"\n",
    "    frequency_dict = {}\n",
    "    for word in word_list:\n",
    "        word = word.lower()\n",
    "        if word in frequency_dict:\n",
    "            frequency_dict[word] += 1\n",
    "        else:\n",
    "            frequency_dict[word] = 1\n",
    "\n",
    "    return frequency_dict\n",
    "if __name__ == \"__main__\":\n",
    "    input_str = input(\"Enter a list of words separated by spaces: \")\n",
    "    word_list = input_str.split()\n",
    "\n",
    "    frequencies = word_frequencies(word_list)\n",
    "\n",
    "    print(\"Word frequencies:\", frequencies)\n"
   ]
  },
  {
   "cell_type": "code",
   "execution_count": 28,
   "metadata": {
    "colab": {
     "base_uri": "https://localhost:8080/"
    },
    "executionInfo": {
     "elapsed": 24963,
     "status": "ok",
     "timestamp": 1723168001340,
     "user": {
      "displayName": "Shazil Parwez",
      "userId": "17294264299167245854"
     },
     "user_tz": -330
    },
    "id": "m92DcnqaxF6v",
    "outputId": "98a8f58b-8249-4adc-e066-6fb845a7f134"
   },
   "outputs": [
    {
     "name": "stdout",
     "output_type": "stream",
     "text": [
      "Enter the first dictionary: {'a': 1, 'b': 2}\n",
      "Enter the second dictionary: {'b': 3, 'c': 4}\n",
      "Merged dictionary: {'a': 1, 'b': 5, 'c': 4}\n"
     ]
    }
   ],
   "source": [
    "# 32.Write a code that takes two dictionaries as input and merges them into a single dictionary. If there are common keys, the values should be added together.\n",
    "\n",
    "#Answer 32:\n",
    "\n",
    "def merge_dictionaries(dict1, dict2):\n",
    "    \"\"\"\n",
    "    Merges two dictionaries. If there are common keys, their values are added together.\n",
    "    \"\"\"\n",
    "    merged_dict = dict1.copy()  # Start with a copy of the first dictionary\n",
    "\n",
    "    # Iterate over each key-value pair in the second dictionary\n",
    "    for key, value in dict2.items():\n",
    "        if key in merged_dict:\n",
    "            # If the key is in both dictionaries, add the values\n",
    "            merged_dict[key] += value\n",
    "        else:\n",
    "            # If the key is only in the second dictionary, add it to the merged dictionary\n",
    "            merged_dict[key] = value\n",
    "\n",
    "    return merged_dict\n",
    "\n",
    "# Example usage\n",
    "if __name__ == \"__main__\":\n",
    "    import ast\n",
    "    dict1_str = input(\"Enter the first dictionary: \")\n",
    "    dict2_str = input(\"Enter the second dictionary: \")\n",
    "    dict1 = ast.literal_eval(dict1_str)\n",
    "    dict2 = ast.literal_eval(dict2_str)\n",
    "    merged_dict = merge_dictionaries(dict1, dict2)\n",
    "    print(\"Merged dictionary:\", merged_dict)\n"
   ]
  },
  {
   "cell_type": "code",
   "execution_count": 30,
   "metadata": {
    "colab": {
     "base_uri": "https://localhost:8080/"
    },
    "executionInfo": {
     "elapsed": 15528,
     "status": "ok",
     "timestamp": 1723168111541,
     "user": {
      "displayName": "Shazil Parwez",
      "userId": "17294264299167245854"
     },
     "user_tz": -330
    },
    "id": "ewl4vXVnySaC",
    "outputId": "a591c3ff-4cad-41fe-bf88-e6d663ebbef0"
   },
   "outputs": [
    {
     "name": "stdout",
     "output_type": "stream",
     "text": [
      "Enter the list of keys: ['a', 'b', 'c']\n",
      "The value is: 10\n"
     ]
    }
   ],
   "source": [
    "# 33.Write a code to access a value in a nested dictionary. The function should take the dictionary and a list of keys as input, and return the corresponding value. If any of the keys do not exist in the dictionary, the function should return None.\n",
    "\n",
    "#Answer 33:\n",
    "\n",
    "def get_nested_value(nested_dict, keys):\n",
    "    \"\"\"\n",
    "    Accesses a value in a nested dictionary using a list of keys.\n",
    "    Returns None if any key does not exist.\n",
    "    \"\"\"\n",
    "    current_dict = nested_dict\n",
    "\n",
    "    for key in keys:\n",
    "        # Check if the current key exists in the current level of the dictionary\n",
    "        if isinstance(current_dict, dict) and key in current_dict:\n",
    "            current_dict = current_dict[key]\n",
    "        else:\n",
    "            return None\n",
    "\n",
    "    return current_dict\n",
    "\n",
    "if __name__ == \"__main__\":\n",
    "    nested_dict = {\n",
    "        'a': {\n",
    "            'b': {\n",
    "                'c': 10,\n",
    "                'd': 20\n",
    "            },\n",
    "            'e': 30\n",
    "        },\n",
    "        'f': 40\n",
    "    }\n",
    "\n",
    "    import ast\n",
    "    keys_str = input(\"Enter the list of keys: \")\n",
    "    keys = ast.literal_eval(keys_str)\n",
    "    value = get_nested_value(nested_dict, keys)\n",
    "    print(\"The value is:\", value)\n"
   ]
  },
  {
   "cell_type": "code",
   "execution_count": 31,
   "metadata": {
    "colab": {
     "base_uri": "https://localhost:8080/"
    },
    "executionInfo": {
     "elapsed": 79344,
     "status": "ok",
     "timestamp": 1723168344890,
     "user": {
      "displayName": "Shazil Parwez",
      "userId": "17294264299167245854"
     },
     "user_tz": -330
    },
    "id": "mDG_XUQU0DNV",
    "outputId": "64258651-b169-4dc1-87dc-d9a02fca09a4"
   },
   "outputs": [
    {
     "name": "stdout",
     "output_type": "stream",
     "text": [
      "Enter sort order (asc for ascending, desc for descending): asc\n",
      "Sorted dictionary: {'banana': 1, 'cherry': 2, 'apple': 3, 'date': 5}\n"
     ]
    }
   ],
   "source": [
    "# 34.Write a code that takes a dictionary as input and returns a sorted version of it based on the values. You can choose whether to sort in ascending or descending order.\n",
    "\n",
    "#Answer 34:\n",
    "\n",
    "def sort_dict_by_values(d, ascending=True):\n",
    "    \"\"\"\n",
    "    Returns a sorted version of the dictionary based on its values.\n",
    "\n",
    "    Parameters:\n",
    "    - d: The dictionary to be sorted.\n",
    "    - ascending: Boolean flag to indicate sorting order (True for ascending, False for descending).\n",
    "\n",
    "    Returns:\n",
    "    - A new dictionary sorted by values.\n",
    "    \"\"\"\n",
    "    sorted_items = sorted(d.items(), key=lambda item: item[1], reverse=not ascending)\n",
    "    sorted_dict = dict(sorted_items)\n",
    "\n",
    "    return sorted_dict\n",
    "\n",
    "if __name__ == \"__main__\":\n",
    "    sample_dict = {\n",
    "        'apple': 3,\n",
    "        'banana': 1,\n",
    "        'cherry': 2,\n",
    "        'date': 5\n",
    "    }\n",
    "\n",
    "    sort_order = input(\"Enter sort order (asc for ascending, desc for descending): \").strip().lower()\n",
    "    ascending = sort_order == 'asc'\n",
    "    sorted_dict = sort_dict_by_values(sample_dict, ascending)\n",
    "\n",
    "    print(\"Sorted dictionary:\", sorted_dict)\n"
   ]
  },
  {
   "cell_type": "code",
   "execution_count": 32,
   "metadata": {
    "colab": {
     "base_uri": "https://localhost:8080/"
    },
    "executionInfo": {
     "elapsed": 641,
     "status": "ok",
     "timestamp": 1723168501861,
     "user": {
      "displayName": "Shazil Parwez",
      "userId": "17294264299167245854"
     },
     "user_tz": -330
    },
    "id": "uUfjUxLY1bQ7",
    "outputId": "315a3127-bdb5-425b-ed61-d47ced3e9b85"
   },
   "outputs": [
    {
     "name": "stdout",
     "output_type": "stream",
     "text": [
      "Inverted dictionary: {1: ['a', 'c'], 2: ['b', 'e'], 3: ['d']}\n"
     ]
    }
   ],
   "source": [
    "# 35.Write a code that inverts a dictionary, swapping keys and values. Ensure that the inverted dictionary correctly handles cases where multiple keys have the same value by storing the keys as a list in the inverted dictionary.\n",
    "\n",
    "#Answer 35:\n",
    "\n",
    "def invert_dict(original_dict):\n",
    "    \"\"\"\n",
    "    Inverts the dictionary, swapping keys and values.\n",
    "    If multiple keys have the same value, store the keys as a list.\n",
    "\n",
    "    Parameters:\n",
    "    - original_dict: The dictionary to be inverted.\n",
    "\n",
    "    Returns:\n",
    "    - An inverted dictionary with values as keys and lists of original keys as values.\n",
    "    \"\"\"\n",
    "    inverted_dict = {}\n",
    "    for key, value in original_dict.items():\n",
    "        if value in inverted_dict:\n",
    "            inverted_dict[value].append(key)\n",
    "        else:\n",
    "            inverted_dict[value] = [key]\n",
    "\n",
    "    return inverted_dict\n",
    "if __name__ == \"__main__\":\n",
    "    original_dict = {\n",
    "        'a': 1,\n",
    "        'b': 2,\n",
    "        'c': 1,\n",
    "        'd': 3,\n",
    "        'e': 2\n",
    "    }\n",
    "\n",
    "    inverted_dict = invert_dict(original_dict)\n",
    "    print(\"Inverted dictionary:\", inverted_dict)\n"
   ]
  },
  {
   "cell_type": "code",
   "execution_count": null,
   "metadata": {
    "id": "OfuoC6__2Kry"
   },
   "outputs": [],
   "source": []
  }
 ],
 "metadata": {
  "colab": {
   "authorship_tag": "ABX9TyPfQzu7R2SQ4UzTfxSf3wWM",
   "provenance": []
  },
  "kernelspec": {
   "display_name": "Python 3 (ipykernel)",
   "language": "python",
   "name": "python3"
  },
  "language_info": {
   "codemirror_mode": {
    "name": "ipython",
    "version": 3
   },
   "file_extension": ".py",
   "mimetype": "text/x-python",
   "name": "python",
   "nbconvert_exporter": "python",
   "pygments_lexer": "ipython3",
   "version": "3.10.8"
  }
 },
 "nbformat": 4,
 "nbformat_minor": 4
}
